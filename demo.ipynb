{
 "cells": [
  {
   "cell_type": "code",
   "execution_count": 58,
   "id": "8245673d-05fd-433e-935d-5ac02782bd22",
   "metadata": {},
   "outputs": [],
   "source": [
    "import numpy as np\n",
    "import pandas as pd\n",
    "from matplotlib import pyplot as plt\n",
    "# import pycaret\n",
    "import sklearn\n",
    "from sklearn.preprocessing import LabelEncoder\n",
    "from sklearn.model_selection import train_test_split\n",
    "from sklearn.metrics import accuracy_score, precision_score, recall_score, f1_score"
   ]
  },
  {
   "cell_type": "code",
   "execution_count": 22,
   "id": "ae1fd45a-7104-46fd-96e1-d8d9d2c87235",
   "metadata": {},
   "outputs": [],
   "source": [
    "from sentence_transformers import SentenceTransformer\n",
    "model = SentenceTransformer(\"all-MiniLM-L6-v2\", device=\"cuda\")"
   ]
  },
  {
   "cell_type": "code",
   "execution_count": 40,
   "id": "2f3c7515-cbf5-4db3-b244-b4c63a5af822",
   "metadata": {},
   "outputs": [],
   "source": [
    "import wandb\n",
    "from wandb.integration.xgboost import WandbCallback\n"
   ]
  },
  {
   "cell_type": "code",
   "execution_count": 56,
   "id": "8f9813fe-ced2-45b1-9252-652e7c9f6882",
   "metadata": {},
   "outputs": [],
   "source": [
    "def get_metrics(y_true, y_pred):\n",
    "    acc_score = accuracy_score(y_true, y_pred)\n",
    "    prec_sc = precision_score(y_true, y_pred, average = None)\n",
    "    rec_sc = recall_score(y_true, y_pred, average = None)\n",
    "    print(f'Accuracy score: {acc_score}')\n",
    "    print(f'Precision score: {prec_sc}')\n",
    "    print(f'Recall score: {rec_sc}')\n",
    "    return acc_score, prec_sc, rec_sc"
   ]
  },
  {
   "cell_type": "code",
   "execution_count": 2,
   "id": "60cb3d9e-a2ae-41f6-ab88-77cdffa46d7c",
   "metadata": {},
   "outputs": [],
   "source": [
    "df_1 = pd.read_csv('data/000000000001.csv')"
   ]
  },
  {
   "cell_type": "code",
   "execution_count": 3,
   "id": "79283591-8405-46c6-81cd-5a6d7aa8aed3",
   "metadata": {
    "scrolled": true
   },
   "outputs": [
    {
     "data": {
      "text/html": [
       "<div>\n",
       "<style scoped>\n",
       "    .dataframe tbody tr th:only-of-type {\n",
       "        vertical-align: middle;\n",
       "    }\n",
       "\n",
       "    .dataframe tbody tr th {\n",
       "        vertical-align: top;\n",
       "    }\n",
       "\n",
       "    .dataframe thead th {\n",
       "        text-align: right;\n",
       "    }\n",
       "</style>\n",
       "<table border=\"1\" class=\"dataframe\">\n",
       "  <thead>\n",
       "    <tr style=\"text-align: right;\">\n",
       "      <th></th>\n",
       "      <th>product_id</th>\n",
       "      <th>title</th>\n",
       "      <th>description</th>\n",
       "      <th>brand</th>\n",
       "      <th>ebay_category</th>\n",
       "      <th>localized_aspects_json</th>\n",
       "      <th>google_category_l1</th>\n",
       "      <th>google_category_l2</th>\n",
       "      <th>google_category_l3</th>\n",
       "      <th>google_category_l4</th>\n",
       "      <th>google_category_l5</th>\n",
       "    </tr>\n",
       "  </thead>\n",
       "  <tbody>\n",
       "    <tr>\n",
       "      <th>0</th>\n",
       "      <td>51d7b4c5b1276f2886e2c011d178c3fd7c8bd105</td>\n",
       "      <td>CHRISTY DORAN: PERSPECTIVES (CD.)</td>\n",
       "      <td>\"**** BRAND NEW FACTORY SEALED CD ****\\n\\nDISP...</td>\n",
       "      <td>NaN</td>\n",
       "      <td>Music|CDs</td>\n",
       "      <td>[{\"key\":\"Artist\",\"value\":\"CHRISTY DORAN\"},{\"ke...</td>\n",
       "      <td>783</td>\n",
       "      <td>855.0</td>\n",
       "      <td>NaN</td>\n",
       "      <td>NaN</td>\n",
       "      <td>NaN</td>\n",
       "    </tr>\n",
       "    <tr>\n",
       "      <th>1</th>\n",
       "      <td>100bc92b5f8da193fd911b2840e7e2f2f2506fb5</td>\n",
       "      <td>Il Collo E La Collana/Libanon, Rayon, Audio CD...</td>\n",
       "      <td>\"The Monster Bookshop eBay Store\\n\\nProduct De...</td>\n",
       "      <td>NaN</td>\n",
       "      <td>Music|CDs</td>\n",
       "      <td>[{\"key\":\"Artist\",\"value\":\"Rayon\"},{\"key\":\"Era\"...</td>\n",
       "      <td>783</td>\n",
       "      <td>855.0</td>\n",
       "      <td>NaN</td>\n",
       "      <td>NaN</td>\n",
       "      <td>NaN</td>\n",
       "    </tr>\n",
       "    <tr>\n",
       "      <th>2</th>\n",
       "      <td>c4c5c5b53e623b2e63e3d9a33bf3320f95c2073f</td>\n",
       "      <td>SOULBOUND - OBSYDIAN - Preorder - New CD - N72z</td>\n",
       "      <td>\"ID72p\\n\\nNOTE: Release date: 26-July 2024\\n\\n...</td>\n",
       "      <td>NaN</td>\n",
       "      <td>Music|CDs</td>\n",
       "      <td>[{\"key\":\"Artist\",\"value\":\"SOULBOUND\"},{\"key\":\"...</td>\n",
       "      <td>783</td>\n",
       "      <td>855.0</td>\n",
       "      <td>NaN</td>\n",
       "      <td>NaN</td>\n",
       "      <td>NaN</td>\n",
       "    </tr>\n",
       "    <tr>\n",
       "      <th>3</th>\n",
       "      <td>a4116bc36fdb86a4d143355956431013895f80a6</td>\n",
       "      <td>John Farnham - Full House (CD Album)</td>\n",
       "      <td>\"VPCD0843\\nSee listing pictures for tracklisti...</td>\n",
       "      <td>NaN</td>\n",
       "      <td>Music|CDs</td>\n",
       "      <td>[{\"key\":\"Artist\",\"value\":\"John Farnham\"},{\"key...</td>\n",
       "      <td>783</td>\n",
       "      <td>855.0</td>\n",
       "      <td>NaN</td>\n",
       "      <td>NaN</td>\n",
       "      <td>NaN</td>\n",
       "    </tr>\n",
       "    <tr>\n",
       "      <th>4</th>\n",
       "      <td>c69ecd7521c75e132b0fb99a6e80153857d23ed0</td>\n",
       "      <td>Wagner - Overtures - Wagner CD PAVG The Cheap ...</td>\n",
       "      <td>\"Can't find what you're looking for?\\n\\n--\\n\\n...</td>\n",
       "      <td>NaN</td>\n",
       "      <td>Music|CDs</td>\n",
       "      <td>[{\"key\":\"Album Name\",\"value\":\"Wagner - Overtur...</td>\n",
       "      <td>783</td>\n",
       "      <td>855.0</td>\n",
       "      <td>NaN</td>\n",
       "      <td>NaN</td>\n",
       "      <td>NaN</td>\n",
       "    </tr>\n",
       "  </tbody>\n",
       "</table>\n",
       "</div>"
      ],
      "text/plain": [
       "                                 product_id  \\\n",
       "0  51d7b4c5b1276f2886e2c011d178c3fd7c8bd105   \n",
       "1  100bc92b5f8da193fd911b2840e7e2f2f2506fb5   \n",
       "2  c4c5c5b53e623b2e63e3d9a33bf3320f95c2073f   \n",
       "3  a4116bc36fdb86a4d143355956431013895f80a6   \n",
       "4  c69ecd7521c75e132b0fb99a6e80153857d23ed0   \n",
       "\n",
       "                                               title  \\\n",
       "0                  CHRISTY DORAN: PERSPECTIVES (CD.)   \n",
       "1  Il Collo E La Collana/Libanon, Rayon, Audio CD...   \n",
       "2    SOULBOUND - OBSYDIAN - Preorder - New CD - N72z   \n",
       "3               John Farnham - Full House (CD Album)   \n",
       "4  Wagner - Overtures - Wagner CD PAVG The Cheap ...   \n",
       "\n",
       "                                         description brand ebay_category  \\\n",
       "0  \"**** BRAND NEW FACTORY SEALED CD ****\\n\\nDISP...   NaN     Music|CDs   \n",
       "1  \"The Monster Bookshop eBay Store\\n\\nProduct De...   NaN     Music|CDs   \n",
       "2  \"ID72p\\n\\nNOTE: Release date: 26-July 2024\\n\\n...   NaN     Music|CDs   \n",
       "3  \"VPCD0843\\nSee listing pictures for tracklisti...   NaN     Music|CDs   \n",
       "4  \"Can't find what you're looking for?\\n\\n--\\n\\n...   NaN     Music|CDs   \n",
       "\n",
       "                              localized_aspects_json  google_category_l1  \\\n",
       "0  [{\"key\":\"Artist\",\"value\":\"CHRISTY DORAN\"},{\"ke...                 783   \n",
       "1  [{\"key\":\"Artist\",\"value\":\"Rayon\"},{\"key\":\"Era\"...                 783   \n",
       "2  [{\"key\":\"Artist\",\"value\":\"SOULBOUND\"},{\"key\":\"...                 783   \n",
       "3  [{\"key\":\"Artist\",\"value\":\"John Farnham\"},{\"key...                 783   \n",
       "4  [{\"key\":\"Album Name\",\"value\":\"Wagner - Overtur...                 783   \n",
       "\n",
       "   google_category_l2  google_category_l3  google_category_l4  \\\n",
       "0               855.0                 NaN                 NaN   \n",
       "1               855.0                 NaN                 NaN   \n",
       "2               855.0                 NaN                 NaN   \n",
       "3               855.0                 NaN                 NaN   \n",
       "4               855.0                 NaN                 NaN   \n",
       "\n",
       "   google_category_l5  \n",
       "0                 NaN  \n",
       "1                 NaN  \n",
       "2                 NaN  \n",
       "3                 NaN  \n",
       "4                 NaN  "
      ]
     },
     "execution_count": 3,
     "metadata": {},
     "output_type": "execute_result"
    }
   ],
   "source": [
    "df_1.head()"
   ]
  },
  {
   "cell_type": "code",
   "execution_count": 4,
   "id": "54c0efdd-e3eb-4f1a-93e1-05ccb384aaf6",
   "metadata": {},
   "outputs": [
    {
     "name": "stdout",
     "output_type": "stream",
     "text": [
      "product_id : 0\n",
      "title : 0\n",
      "description : 50155\n",
      "brand : 22546\n",
      "ebay_category : 0\n",
      "localized_aspects_json : 6495\n",
      "google_category_l1 : 0\n",
      "google_category_l2 : 808\n",
      "google_category_l3 : 17084\n",
      "google_category_l4 : 45134\n",
      "google_category_l5 : 85290\n"
     ]
    }
   ],
   "source": [
    "nan_counts = df_1.isna().sum()\n",
    "\n",
    "# Print the results in the desired format\n",
    "for column, count in nan_counts.items():\n",
    "    print(f\"{column} : {count}\")"
   ]
  },
  {
   "cell_type": "code",
   "execution_count": 9,
   "id": "3ec9e593-b7bb-4a3a-826b-0e77b6c146a8",
   "metadata": {},
   "outputs": [],
   "source": [
    "from transformers import BertTokenizer, BertModel\n",
    "import torch\n",
    "\n",
    "def preprocess_dataframe(dataframe):\n",
    "    list_of_columns_to_drop = ['product_id', 'google_category_l3', 'google_category_l4', 'google_category_l5', 'localized_aspects_json']    \n",
    "    \n",
    "    dataframe = dataframe.drop(list_of_columns_to_drop, axis = 1)\n",
    "    dataframe = dataframe.dropna(axis = 0)\n",
    "    dataframe['google_category_l2'] = dataframe['google_category_l2'].astype(int)\n",
    "    dataframe_y1 = dataframe[['title', 'description', 'brand', 'ebay_category','google_category_l1']]\n",
    "    dataframe_y2 = dataframe[['title', 'description', 'brand', 'ebay_category', 'google_category_l2']]\n",
    "    dataframe_y1.reset_index(inplace = True, drop = True)\n",
    "    dataframe_y2.reset_index(inplace = True, drop = True)\n",
    "    return dataframe_y1, dataframe_y2\n"
   ]
  },
  {
   "cell_type": "code",
   "execution_count": 10,
   "id": "877f9b42-6ea8-4f72-a27f-bdd2b9fac2ea",
   "metadata": {},
   "outputs": [],
   "source": [
    "df_1_preproc_1, df_1_preproc_2 = preprocess_dataframe(df_1)"
   ]
  },
  {
   "cell_type": "code",
   "execution_count": 11,
   "id": "3d12acea-4e5a-4a70-bb1e-6f0a669ee499",
   "metadata": {},
   "outputs": [],
   "source": [
    "labels_1 = df_1_preproc_1['google_category_l1'].to_numpy()\n",
    "labels_2 = df_1_preproc_2['google_category_l2'].to_numpy()"
   ]
  },
  {
   "cell_type": "code",
   "execution_count": 12,
   "id": "c17c0fb3-b07f-402e-89de-c3944fd15776",
   "metadata": {},
   "outputs": [],
   "source": [
    "titles_l1 = list(df_1_preproc_1['title'].to_numpy())"
   ]
  },
  {
   "cell_type": "code",
   "execution_count": 13,
   "id": "87553265-4cb9-44c8-8ae4-d76059f862fa",
   "metadata": {},
   "outputs": [],
   "source": [
    "description_l1 = list(df_1_preproc_1['description'].to_numpy())"
   ]
  },
  {
   "cell_type": "code",
   "execution_count": 14,
   "id": "6c04126e-0366-4935-9d24-fb38f73cdbfc",
   "metadata": {},
   "outputs": [],
   "source": [
    "import re\n",
    "def clean_string(input_string):\n",
    "    \"\"\"\n",
    "    This function takes a string as input and returns a cleaned string containing\n",
    "    only alphanumeric characters (letters and numbers).\n",
    "    \n",
    "    Parameters:\n",
    "    input_string (str): The string to be cleaned.\n",
    "    \n",
    "    Returns:\n",
    "    str: The cleaned string with only alphanumeric characters.\n",
    "    \"\"\"\n",
    "    # Use regular expression to remove non-alphanumeric characters\n",
    "    cleaned_string = re.sub(r'[^a-zA-Z0-9]', ' ', input_string)\n",
    "    return cleaned_string"
   ]
  },
  {
   "cell_type": "code",
   "execution_count": 15,
   "id": "5758c7c5-f3ff-410b-9289-49e5d4299c7a",
   "metadata": {},
   "outputs": [],
   "source": [
    "description_l1_cleaned = []\n",
    "for item in description_l1:\n",
    "    description_l1_cleaned.append(clean_string(item))"
   ]
  },
  {
   "cell_type": "code",
   "execution_count": 20,
   "id": "6898ff7d-364f-4114-a4b8-8056b4d10e2e",
   "metadata": {},
   "outputs": [],
   "source": [
    "\n",
    "label_encoder = LabelEncoder()\n",
    "df_1_preproc_1['ebay_category_int'] = label_encoder.fit_transform(df_1_preproc_1['ebay_category'])"
   ]
  },
  {
   "cell_type": "code",
   "execution_count": 21,
   "id": "a2e488a4-5469-496e-9cec-d27ee8399a35",
   "metadata": {},
   "outputs": [],
   "source": [
    "category_feature = df_1_preproc_1['ebay_category_int'].to_numpy()"
   ]
  },
  {
   "cell_type": "code",
   "execution_count": 24,
   "id": "1cdb43b7-0dbd-43e7-b3da-d21e83ca74af",
   "metadata": {},
   "outputs": [
    {
     "data": {
      "text/plain": [
       "(30287, 384)"
      ]
     },
     "execution_count": 24,
     "metadata": {},
     "output_type": "execute_result"
    }
   ],
   "source": [
    "desc_l1_cleaned_embeddings = model.encode(description_l1_cleaned)\n",
    "desc_l1_cleaned_embeddings.shape"
   ]
  },
  {
   "cell_type": "code",
   "execution_count": 25,
   "id": "2db739c4-0a69-4da1-b7b7-a4d799ea77ee",
   "metadata": {},
   "outputs": [
    {
     "data": {
      "text/plain": [
       "(30287, 384)"
      ]
     },
     "execution_count": 25,
     "metadata": {},
     "output_type": "execute_result"
    }
   ],
   "source": [
    "titles_l1_embeddings = model.encode(titles_l1)\n",
    "titles_l1_embeddings.shape"
   ]
  },
  {
   "cell_type": "code",
   "execution_count": 26,
   "id": "83b796c8-85da-4fe5-90c9-f3c4f5fa00f1",
   "metadata": {},
   "outputs": [
    {
     "data": {
      "text/plain": [
       "(30287, 384)"
      ]
     },
     "execution_count": 26,
     "metadata": {},
     "output_type": "execute_result"
    }
   ],
   "source": [
    "brand_l1  = list(df_1_preproc_1['brand'].to_numpy())\n",
    "brand_l1_embeddings = model.encode(brand_l1)\n",
    "brand_l1_embeddings.shape"
   ]
  },
  {
   "cell_type": "code",
   "execution_count": 27,
   "id": "bb4d4e7c-2a47-4f1d-8b12-a92d7b718703",
   "metadata": {},
   "outputs": [
    {
     "data": {
      "text/plain": [
       "(30287, 1)"
      ]
     },
     "execution_count": 27,
     "metadata": {},
     "output_type": "execute_result"
    }
   ],
   "source": [
    "category_feature_ = np.expand_dims(category_feature, axis = 1)\n",
    "category_feature_.shape"
   ]
  },
  {
   "cell_type": "code",
   "execution_count": 28,
   "id": "ee2258a0-4989-42ec-9356-4c284eaa31f9",
   "metadata": {},
   "outputs": [],
   "source": [
    "X = np.hstack((titles_l1_embeddings, brand_l1_embeddings, category_feature_))"
   ]
  },
  {
   "cell_type": "code",
   "execution_count": 57,
   "id": "ef65cac4-a0cf-4b03-b6eb-fcb6600c5ff5",
   "metadata": {},
   "outputs": [
    {
     "data": {
      "text/plain": [
       "(30287, 1153)"
      ]
     },
     "execution_count": 57,
     "metadata": {},
     "output_type": "execute_result"
    }
   ],
   "source": [
    "X_desc = np.hstack((desc_l1_cleaned_embeddings, titles_l1_embeddings, brand_l1_embeddings, category_feature_))\n",
    "X_desc.shape"
   ]
  },
  {
   "cell_type": "code",
   "execution_count": 29,
   "id": "adab4e67-27ad-4cd0-a609-4e0918a887e2",
   "metadata": {},
   "outputs": [
    {
     "data": {
      "text/plain": [
       "(30287, 769)"
      ]
     },
     "execution_count": 29,
     "metadata": {},
     "output_type": "execute_result"
    }
   ],
   "source": [
    "X.shape"
   ]
  },
  {
   "cell_type": "code",
   "execution_count": 30,
   "id": "9eb57eb3-220e-4745-9e3f-7b6e536639d8",
   "metadata": {},
   "outputs": [],
   "source": []
  },
  {
   "cell_type": "code",
   "execution_count": 42,
   "id": "fb28563c-7873-4f93-882b-5c2b52761485",
   "metadata": {},
   "outputs": [],
   "source": [
    "import xgboost as xgb\n",
    "model = xgb.XGBClassifier(callbacks=[WandbCallback(log_model=True)])"
   ]
  },
  {
   "cell_type": "code",
   "execution_count": 32,
   "id": "7bb838c0-6d46-4369-9cc2-072117a8e5dc",
   "metadata": {},
   "outputs": [],
   "source": [
    "dict_for_label_conversion = {1:0, 772:1, 8:2, 141:3, 783:4, 536:5, 537:6, 922:7, 412:8, 166:9, 2092:10, 436:11, 5181:12, 469:13, 1239:14, 988:15, 222:16, 5605:17, 632:18, 111:19, 888:20}"
   ]
  },
  {
   "cell_type": "code",
   "execution_count": 33,
   "id": "b7724408-a9ef-4706-b007-f9b0c4e86c55",
   "metadata": {},
   "outputs": [],
   "source": [
    "labels_1_converted = []\n",
    "labels_unique = list(set(labels_1))\n",
    "for elem in labels_1:\n",
    "    labels_1_converted.append(dict_for_label_conversion[elem])"
   ]
  },
  {
   "cell_type": "code",
   "execution_count": 34,
   "id": "336fba76-c894-44bf-99a3-c52e70bae9b6",
   "metadata": {},
   "outputs": [],
   "source": [
    "def convert_labels(labels):\n",
    "    dict_for_label_conversion = {1:0, 772:1, 8:2, 141:3, 783:4,\n",
    "                                 536:5, 537:6, 922:7, 412:8,\n",
    "                                 166:9, 2092:10, 436:11, 5181:12,\n",
    "                                 469:13, 1239:14, 988:15, 222:16,\n",
    "                                 5605:17, 632:18, 111:19, 888:20}\n",
    "\n",
    "    labels_converted = []\n",
    "    for elem in labels:\n",
    "        labels_converted.append(dict_for_label_conversion[elem])\n",
    "    return labels_converted\n",
    "    "
   ]
  },
  {
   "cell_type": "code",
   "execution_count": 59,
   "id": "249e27f4-480e-4bbc-98c9-b82c0fae0b37",
   "metadata": {},
   "outputs": [],
   "source": [
    "X_train_d, X_test_d, y_train_d, y_test_d = train_test_split(\n",
    "    X_desc, labels_1_converted, test_size=0.2, random_state=42)"
   ]
  },
  {
   "cell_type": "code",
   "execution_count": 35,
   "id": "910b4745-85ab-47d1-b864-b0c950d7f2a1",
   "metadata": {},
   "outputs": [],
   "source": [
    "\n",
    "X_train, X_test, y_train, y_test = train_test_split(\n",
    "    X, labels_1_converted, test_size=0.2, random_state=42)"
   ]
  },
  {
   "cell_type": "code",
   "execution_count": 60,
   "id": "031ce6a6-da20-407d-9d3c-c5b093fee735",
   "metadata": {},
   "outputs": [
    {
     "data": {
      "text/html": [
       "Tracking run with wandb version 0.17.4"
      ],
      "text/plain": [
       "<IPython.core.display.HTML object>"
      ]
     },
     "metadata": {},
     "output_type": "display_data"
    },
    {
     "data": {
      "text/html": [
       "Run data is saved locally in <code>/workspace/wandb/run-20240718_154625-pd5zmne5</code>"
      ],
      "text/plain": [
       "<IPython.core.display.HTML object>"
      ]
     },
     "metadata": {},
     "output_type": "display_data"
    },
    {
     "data": {
      "text/html": [
       "Syncing run <strong><a href='https://wandb.ai/aleksandr-abashkin-litslink/uncategorized/runs/pd5zmne5' target=\"_blank\">desc|title|brand|category-1</a></strong> to <a href='https://wandb.ai/aleksandr-abashkin-litslink/uncategorized' target=\"_blank\">Weights & Biases</a> (<a href='https://wandb.me/run' target=\"_blank\">docs</a>)<br/>"
      ],
      "text/plain": [
       "<IPython.core.display.HTML object>"
      ]
     },
     "metadata": {},
     "output_type": "display_data"
    },
    {
     "data": {
      "text/html": [
       " View project at <a href='https://wandb.ai/aleksandr-abashkin-litslink/uncategorized' target=\"_blank\">https://wandb.ai/aleksandr-abashkin-litslink/uncategorized</a>"
      ],
      "text/plain": [
       "<IPython.core.display.HTML object>"
      ]
     },
     "metadata": {},
     "output_type": "display_data"
    },
    {
     "data": {
      "text/html": [
       " View run at <a href='https://wandb.ai/aleksandr-abashkin-litslink/uncategorized/runs/pd5zmne5' target=\"_blank\">https://wandb.ai/aleksandr-abashkin-litslink/uncategorized/runs/pd5zmne5</a>"
      ],
      "text/plain": [
       "<IPython.core.display.HTML object>"
      ]
     },
     "metadata": {},
     "output_type": "display_data"
    },
    {
     "name": "stdout",
     "output_type": "stream",
     "text": [
      "Accuracy score: 0.8715747771541763\n",
      "Precision score: [0.94736842 0.         0.81107492 0.92682927 0.97674419 0.79403409\n",
      " 0.90909091 0.76       1.         0.93497364 1.         0.90909091\n",
      " 1.         0.8525641  0.76712329 0.75352113 0.88036117 0.\n",
      " 0.79423077 0.7        0.90888806]\n",
      "Recall score: [0.7826087  0.         0.778125   0.82608696 0.85714286 0.88170347\n",
      " 0.55555556 0.44186047 0.5        0.93497364 0.5        0.6779661\n",
      " 0.44       0.86363636 0.85714286 0.82945736 0.89861751 0.\n",
      " 0.60291971 0.18181818 0.98667743]\n"
     ]
    },
    {
     "name": "stderr",
     "output_type": "stream",
     "text": [
      "/usr/local/lib/python3.10/dist-packages/sklearn/metrics/_classification.py:1531: UndefinedMetricWarning: Precision is ill-defined and being set to 0.0 in labels with no predicted samples. Use `zero_division` parameter to control this behavior.\n",
      "  _warn_prf(average, modifier, f\"{metric.capitalize()} is\", len(result))\n"
     ]
    },
    {
     "ename": "NameError",
     "evalue": "name 'rc' is not defined",
     "output_type": "error",
     "traceback": [
      "\u001b[0;31m---------------------------------------------------------------------------\u001b[0m",
      "\u001b[0;31mNameError\u001b[0m                                 Traceback (most recent call last)",
      "Cell \u001b[0;32mIn[60], line 5\u001b[0m\n\u001b[1;32m      3\u001b[0m y_pred \u001b[38;5;241m=\u001b[39m model\u001b[38;5;241m.\u001b[39mpredict(X_test_d)\n\u001b[1;32m      4\u001b[0m acc, pr, rec \u001b[38;5;241m=\u001b[39m get_metrics(y_test_d, y_pred)\n\u001b[0;32m----> 5\u001b[0m wandb\u001b[38;5;241m.\u001b[39mlog({\u001b[38;5;124m'\u001b[39m\u001b[38;5;124maccuracy\u001b[39m\u001b[38;5;124m'\u001b[39m:acc, \u001b[38;5;124m'\u001b[39m\u001b[38;5;124mprecision\u001b[39m\u001b[38;5;124m'\u001b[39m:pr, \u001b[38;5;124m'\u001b[39m\u001b[38;5;124mrecall\u001b[39m\u001b[38;5;124m'\u001b[39m:\u001b[43mrc\u001b[49m})\n",
      "\u001b[0;31mNameError\u001b[0m: name 'rc' is not defined"
     ]
    }
   ],
   "source": [
    "wandb.init(name = 'desc|title|brand|category-1')\n",
    "model.fit(X_train_d, y_train_d)\n",
    "y_pred = model.predict(X_test_d)\n",
    "acc, pr, rec = get_metrics(y_test_d, y_pred)\n"
   ]
  },
  {
   "cell_type": "code",
   "execution_count": 62,
   "id": "81b9e540-6dae-4871-ada7-992954ba45b5",
   "metadata": {},
   "outputs": [
    {
     "data": {
      "application/vnd.jupyter.widget-view+json": {
       "model_id": "",
       "version_major": 2,
       "version_minor": 0
      },
      "text/plain": [
       "VBox(children=(Label(value='5.593 MB of 11.124 MB uploaded\\r'), FloatProgress(value=0.502811361971073, max=1.0…"
      ]
     },
     "metadata": {},
     "output_type": "display_data"
    },
    {
     "data": {
      "text/html": [
       "<style>\n",
       "    table.wandb td:nth-child(1) { padding: 0 10px; text-align: left ; width: auto;} td:nth-child(2) {text-align: left ; width: 100%}\n",
       "    .wandb-row { display: flex; flex-direction: row; flex-wrap: wrap; justify-content: flex-start; width: 100% }\n",
       "    .wandb-col { display: flex; flex-direction: column; flex-basis: 100%; flex: 1; padding: 10px; }\n",
       "    </style>\n",
       "<div class=\"wandb-row\"><div class=\"wandb-col\"><h3>Run history:</h3><br/><table class=\"wandb\"><tr><td>accuracy</td><td>▁</td></tr><tr><td>epoch</td><td>▁▁▁▁▂▂▂▂▂▃▃▃▃▃▃▄▄▄▄▄▅▅▅▅▅▅▆▆▆▆▆▇▇▇▇▇▇███</td></tr></table><br/></div><div class=\"wandb-col\"><h3>Run summary:</h3><br/><table class=\"wandb\"><tr><td>accuracy</td><td>0.87157</td></tr><tr><td>epoch</td><td>99</td></tr></table><br/></div></div>"
      ],
      "text/plain": [
       "<IPython.core.display.HTML object>"
      ]
     },
     "metadata": {},
     "output_type": "display_data"
    },
    {
     "data": {
      "text/html": [
       " View run <strong style=\"color:#cdcd00\">desc|title|brand|category-1</strong> at: <a href='https://wandb.ai/aleksandr-abashkin-litslink/uncategorized/runs/pd5zmne5' target=\"_blank\">https://wandb.ai/aleksandr-abashkin-litslink/uncategorized/runs/pd5zmne5</a><br/> View project at: <a href='https://wandb.ai/aleksandr-abashkin-litslink/uncategorized' target=\"_blank\">https://wandb.ai/aleksandr-abashkin-litslink/uncategorized</a><br/>Synced 5 W&B file(s), 1 media file(s), 2 artifact file(s) and 1 other file(s)"
      ],
      "text/plain": [
       "<IPython.core.display.HTML object>"
      ]
     },
     "metadata": {},
     "output_type": "display_data"
    },
    {
     "data": {
      "text/html": [
       "Find logs at: <code>./wandb/run-20240718_154625-pd5zmne5/logs</code>"
      ],
      "text/plain": [
       "<IPython.core.display.HTML object>"
      ]
     },
     "metadata": {},
     "output_type": "display_data"
    },
    {
     "data": {
      "text/html": [
       "The new W&B backend becomes opt-out in version 0.18.0; try it out with `wandb.require(\"core\")`! See https://wandb.me/wandb-core for more information."
      ],
      "text/plain": [
       "<IPython.core.display.HTML object>"
      ]
     },
     "metadata": {},
     "output_type": "display_data"
    }
   ],
   "source": [
    "wandb.finish()"
   ]
  },
  {
   "cell_type": "code",
   "execution_count": 43,
   "id": "f0ae548c-0c0b-4abc-91ea-ccf99b44f5d2",
   "metadata": {},
   "outputs": [
    {
     "data": {
      "application/vnd.jupyter.widget-view+json": {
       "model_id": "",
       "version_major": 2,
       "version_minor": 0
      },
      "text/plain": [
       "VBox(children=(Label(value='8.318 MB of 11.486 MB uploaded\\r'), FloatProgress(value=0.7242187741307452, max=1.…"
      ]
     },
     "metadata": {},
     "output_type": "display_data"
    },
    {
     "data": {
      "text/html": [
       "<style>\n",
       "    table.wandb td:nth-child(1) { padding: 0 10px; text-align: left ; width: auto;} td:nth-child(2) {text-align: left ; width: 100%}\n",
       "    .wandb-row { display: flex; flex-direction: row; flex-wrap: wrap; justify-content: flex-start; width: 100% }\n",
       "    .wandb-col { display: flex; flex-direction: column; flex-basis: 100%; flex: 1; padding: 10px; }\n",
       "    </style>\n",
       "<div class=\"wandb-row\"><div class=\"wandb-col\"><h3>Run history:</h3><br/><table class=\"wandb\"><tr><td>epoch</td><td>▁▁▁▁▂▂▂▂▂▃▃▃▃▃▃▄▄▄▄▄▅▅▅▅▅▅▆▆▆▆▆▇▇▇▇▇▇███</td></tr></table><br/></div><div class=\"wandb-col\"><h3>Run summary:</h3><br/><table class=\"wandb\"><tr><td>epoch</td><td>99</td></tr></table><br/></div></div>"
      ],
      "text/plain": [
       "<IPython.core.display.HTML object>"
      ]
     },
     "metadata": {},
     "output_type": "display_data"
    },
    {
     "data": {
      "text/html": [
       " View run <strong style=\"color:#cdcd00\">comic-oath-1</strong> at: <a href='https://wandb.ai/aleksandr-abashkin-litslink/demo_test_task/runs/f0operpd' target=\"_blank\">https://wandb.ai/aleksandr-abashkin-litslink/demo_test_task/runs/f0operpd</a><br/> View project at: <a href='https://wandb.ai/aleksandr-abashkin-litslink/demo_test_task' target=\"_blank\">https://wandb.ai/aleksandr-abashkin-litslink/demo_test_task</a><br/>Synced 4 W&B file(s), 1 media file(s), 2 artifact file(s) and 1 other file(s)"
      ],
      "text/plain": [
       "<IPython.core.display.HTML object>"
      ]
     },
     "metadata": {},
     "output_type": "display_data"
    },
    {
     "data": {
      "text/html": [
       "Find logs at: <code>./wandb/run-20240718_151928-f0operpd/logs</code>"
      ],
      "text/plain": [
       "<IPython.core.display.HTML object>"
      ]
     },
     "metadata": {},
     "output_type": "display_data"
    },
    {
     "data": {
      "text/html": [
       "The new W&B backend becomes opt-out in version 0.18.0; try it out with `wandb.require(\"core\")`! See https://wandb.me/wandb-core for more information."
      ],
      "text/plain": [
       "<IPython.core.display.HTML object>"
      ]
     },
     "metadata": {},
     "output_type": "display_data"
    }
   ],
   "source": [
    "# run = wandb.init(\n",
    "#     # set the wandb project where this run will be logged\n",
    "#     project=\"demo_test_task\",\n",
    "# )\n",
    "model.fit(X_train, y_train)\n",
    "wandb.finish()"
   ]
  },
  {
   "cell_type": "code",
   "execution_count": 44,
   "id": "1ffa0b74-4400-4336-b161-22e9370a1600",
   "metadata": {},
   "outputs": [],
   "source": [
    "pred_y = model.predict(X_test)"
   ]
  },
  {
   "cell_type": "code",
   "execution_count": 45,
   "id": "827c9d46-8390-456e-9b65-1fbec6dcd226",
   "metadata": {},
   "outputs": [
    {
     "name": "stdout",
     "output_type": "stream",
     "text": [
      "[20 20  4 ...  5  9 20]\n"
     ]
    }
   ],
   "source": [
    "print(pred_y)"
   ]
  },
  {
   "cell_type": "code",
   "execution_count": 50,
   "id": "c1ceee3f-6d52-44dd-9b01-50208384a41b",
   "metadata": {},
   "outputs": [],
   "source": []
  },
  {
   "cell_type": "code",
   "execution_count": 51,
   "id": "1b30cf17-26cc-4bb4-95ff-b7d3472bbc78",
   "metadata": {},
   "outputs": [
    {
     "name": "stdout",
     "output_type": "stream",
     "text": [
      "Accuracy score: 0.8697589963684385\n",
      "Precision score: [0.9047619  0.         0.82154882 0.87804878 0.96183206 0.78303199\n",
      " 0.8125     0.83333333 1.         0.93019197 0.         0.925\n",
      " 0.77777778 0.8490566  0.79716981 0.75342466 0.87586207 0.\n",
      " 0.78007519 0.88888889 0.91014169]\n",
      "Recall score: [0.82608696 0.         0.7625     0.7826087  0.85714286 0.88801262\n",
      " 0.72222222 0.34883721 0.5625     0.93673111 0.         0.62711864\n",
      " 0.28       0.87662338 0.8622449  0.85271318 0.87788018 0.\n",
      " 0.60583942 0.20779221 0.98546629]\n"
     ]
    },
    {
     "name": "stderr",
     "output_type": "stream",
     "text": [
      "/usr/local/lib/python3.10/dist-packages/sklearn/metrics/_classification.py:1531: UndefinedMetricWarning: Precision is ill-defined and being set to 0.0 in labels with no predicted samples. Use `zero_division` parameter to control this behavior.\n",
      "  _warn_prf(average, modifier, f\"{metric.capitalize()} is\", len(result))\n"
     ]
    }
   ],
   "source": [
    "get_metrics(y_test, pred_y)"
   ]
  },
  {
   "cell_type": "code",
   "execution_count": 55,
   "id": "c48d1575-eb3b-46d2-890e-6e10dd931353",
   "metadata": {},
   "outputs": [
    {
     "ename": "Error",
     "evalue": "You must call wandb.init() before wandb.log()",
     "output_type": "error",
     "traceback": [
      "\u001b[0;31m---------------------------------------------------------------------------\u001b[0m",
      "\u001b[0;31mError\u001b[0m                                     Traceback (most recent call last)",
      "Cell \u001b[0;32mIn[55], line 1\u001b[0m\n\u001b[0;32m----> 1\u001b[0m \u001b[43mwandb\u001b[49m\u001b[38;5;241;43m.\u001b[39;49m\u001b[43mlog\u001b[49m\u001b[43m(\u001b[49m\u001b[43m{\u001b[49m\u001b[38;5;124;43m'\u001b[39;49m\u001b[38;5;124;43maccuracy\u001b[39;49m\u001b[38;5;124;43m'\u001b[39;49m\u001b[43m:\u001b[49m\u001b[43m \u001b[49m\u001b[38;5;241;43m0.8697589963684385\u001b[39;49m\u001b[43m,\u001b[49m\u001b[43m \u001b[49m\u001b[38;5;124;43m'\u001b[39;49m\u001b[38;5;124;43mprecision\u001b[39;49m\u001b[38;5;124;43m'\u001b[39;49m\u001b[43m:\u001b[49m\u001b[43m \u001b[49m\u001b[43m[\u001b[49m\u001b[38;5;241;43m0.9047619\u001b[39;49m\u001b[43m,\u001b[49m\u001b[43m  \u001b[49m\u001b[38;5;241;43m0.\u001b[39;49m\u001b[43m,\u001b[49m\u001b[43m         \u001b[49m\u001b[38;5;241;43m0.82154882\u001b[39;49m\u001b[43m,\u001b[49m\u001b[43m \u001b[49m\u001b[38;5;241;43m0.87804878\u001b[39;49m\u001b[43m,\u001b[49m\u001b[43m \u001b[49m\u001b[38;5;241;43m0.96183206\u001b[39;49m\u001b[43m,\u001b[49m\u001b[43m \u001b[49m\u001b[38;5;241;43m0.78303199\u001b[39;49m\u001b[43m,\u001b[49m\n\u001b[1;32m      2\u001b[0m \u001b[43m \u001b[49m\u001b[38;5;241;43m0.8125\u001b[39;49m\u001b[43m,\u001b[49m\u001b[43m     \u001b[49m\u001b[38;5;241;43m0.83333333\u001b[39;49m\u001b[43m,\u001b[49m\u001b[43m \u001b[49m\u001b[38;5;241;43m1.\u001b[39;49m\u001b[43m,\u001b[49m\u001b[43m         \u001b[49m\u001b[38;5;241;43m0.93019197\u001b[39;49m\u001b[43m,\u001b[49m\u001b[43m \u001b[49m\u001b[38;5;241;43m0.\u001b[39;49m\u001b[43m,\u001b[49m\u001b[43m         \u001b[49m\u001b[38;5;241;43m0.925\u001b[39;49m\u001b[43m,\u001b[49m\n\u001b[1;32m      3\u001b[0m \u001b[43m \u001b[49m\u001b[38;5;241;43m0.77777778\u001b[39;49m\u001b[43m,\u001b[49m\u001b[43m \u001b[49m\u001b[38;5;241;43m0.8490566\u001b[39;49m\u001b[43m,\u001b[49m\u001b[43m  \u001b[49m\u001b[38;5;241;43m0.79716981\u001b[39;49m\u001b[43m,\u001b[49m\u001b[43m \u001b[49m\u001b[38;5;241;43m0.75342466\u001b[39;49m\u001b[43m,\u001b[49m\u001b[43m \u001b[49m\u001b[38;5;241;43m0.87586207\u001b[39;49m\u001b[43m,\u001b[49m\u001b[43m \u001b[49m\u001b[38;5;241;43m0.\u001b[39;49m\u001b[43m,\u001b[49m\n\u001b[1;32m      4\u001b[0m \u001b[43m \u001b[49m\u001b[38;5;241;43m0.78007519\u001b[39;49m\u001b[43m,\u001b[49m\u001b[43m \u001b[49m\u001b[38;5;241;43m0.88888889\u001b[39;49m\u001b[43m,\u001b[49m\u001b[43m \u001b[49m\u001b[38;5;241;43m0.91014169\u001b[39;49m\u001b[43m]\u001b[49m\u001b[43m,\u001b[49m\u001b[43m \u001b[49m\u001b[38;5;124;43m'\u001b[39;49m\u001b[38;5;124;43mrecall\u001b[39;49m\u001b[38;5;124;43m'\u001b[39;49m\u001b[43m:\u001b[49m\u001b[43m \u001b[49m\u001b[43m[\u001b[49m\u001b[38;5;241;43m0.82608696\u001b[39;49m\u001b[43m,\u001b[49m\u001b[43m \u001b[49m\u001b[38;5;241;43m0.\u001b[39;49m\u001b[43m,\u001b[49m\u001b[43m         \u001b[49m\u001b[38;5;241;43m0.7625\u001b[39;49m\u001b[43m,\u001b[49m\u001b[43m     \u001b[49m\u001b[38;5;241;43m0.7826087\u001b[39;49m\u001b[43m,\u001b[49m\u001b[43m  \u001b[49m\u001b[38;5;241;43m0.85714286\u001b[39;49m\u001b[43m,\u001b[49m\u001b[43m \u001b[49m\u001b[38;5;241;43m0.88801262\u001b[39;49m\u001b[43m,\u001b[49m\n\u001b[1;32m      5\u001b[0m \u001b[43m \u001b[49m\u001b[38;5;241;43m0.72222222\u001b[39;49m\u001b[43m,\u001b[49m\u001b[43m \u001b[49m\u001b[38;5;241;43m0.34883721\u001b[39;49m\u001b[43m,\u001b[49m\u001b[43m \u001b[49m\u001b[38;5;241;43m0.5625\u001b[39;49m\u001b[43m,\u001b[49m\u001b[43m     \u001b[49m\u001b[38;5;241;43m0.93673111\u001b[39;49m\u001b[43m,\u001b[49m\u001b[43m \u001b[49m\u001b[38;5;241;43m0.\u001b[39;49m\u001b[43m,\u001b[49m\u001b[43m         \u001b[49m\u001b[38;5;241;43m0.62711864\u001b[39;49m\u001b[43m,\u001b[49m\n\u001b[1;32m      6\u001b[0m \u001b[43m \u001b[49m\u001b[38;5;241;43m0.28\u001b[39;49m\u001b[43m,\u001b[49m\u001b[43m       \u001b[49m\u001b[38;5;241;43m0.87662338\u001b[39;49m\u001b[43m,\u001b[49m\u001b[43m \u001b[49m\u001b[38;5;241;43m0.8622449\u001b[39;49m\u001b[43m,\u001b[49m\u001b[43m  \u001b[49m\u001b[38;5;241;43m0.85271318\u001b[39;49m\u001b[43m,\u001b[49m\u001b[43m \u001b[49m\u001b[38;5;241;43m0.87788018\u001b[39;49m\u001b[43m,\u001b[49m\u001b[43m \u001b[49m\u001b[38;5;241;43m0.\u001b[39;49m\u001b[43m,\u001b[49m\n\u001b[1;32m      7\u001b[0m \u001b[43m \u001b[49m\u001b[38;5;241;43m0.60583942\u001b[39;49m\u001b[43m,\u001b[49m\u001b[43m \u001b[49m\u001b[38;5;241;43m0.20779221\u001b[39;49m\u001b[43m,\u001b[49m\u001b[43m \u001b[49m\u001b[38;5;241;43m0.98546629\u001b[39;49m\u001b[43m]\u001b[49m\u001b[43m}\u001b[49m\u001b[43m)\u001b[49m\n",
      "File \u001b[0;32m/usr/local/lib/python3.10/dist-packages/wandb/sdk/lib/preinit.py:36\u001b[0m, in \u001b[0;36mPreInitCallable.<locals>.preinit_wrapper\u001b[0;34m(*args, **kwargs)\u001b[0m\n\u001b[1;32m     35\u001b[0m \u001b[38;5;28;01mdef\u001b[39;00m \u001b[38;5;21mpreinit_wrapper\u001b[39m(\u001b[38;5;241m*\u001b[39margs: Any, \u001b[38;5;241m*\u001b[39m\u001b[38;5;241m*\u001b[39mkwargs: Any) \u001b[38;5;241m-\u001b[39m\u001b[38;5;241m>\u001b[39m Any:\n\u001b[0;32m---> 36\u001b[0m     \u001b[38;5;28;01mraise\u001b[39;00m wandb\u001b[38;5;241m.\u001b[39mError(\u001b[38;5;124mf\u001b[39m\u001b[38;5;124m\"\u001b[39m\u001b[38;5;124mYou must call wandb.init() before \u001b[39m\u001b[38;5;132;01m{\u001b[39;00mname\u001b[38;5;132;01m}\u001b[39;00m\u001b[38;5;124m()\u001b[39m\u001b[38;5;124m\"\u001b[39m)\n",
      "\u001b[0;31mError\u001b[0m: You must call wandb.init() before wandb.log()"
     ]
    }
   ],
   "source": []
  },
  {
   "cell_type": "code",
   "execution_count": null,
   "id": "587f322a-aace-4385-924f-890a33dc25f3",
   "metadata": {},
   "outputs": [],
   "source": []
  }
 ],
 "metadata": {
  "kernelspec": {
   "display_name": "Python 3 (ipykernel)",
   "language": "python",
   "name": "python3"
  },
  "language_info": {
   "codemirror_mode": {
    "name": "ipython",
    "version": 3
   },
   "file_extension": ".py",
   "mimetype": "text/x-python",
   "name": "python",
   "nbconvert_exporter": "python",
   "pygments_lexer": "ipython3",
   "version": "3.10.12"
  }
 },
 "nbformat": 4,
 "nbformat_minor": 5
}
